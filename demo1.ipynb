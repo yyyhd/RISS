import os

cmd = """
python test.py 
--dataroot /home/hoo/projects/wxd/GANs/RISS/dataset 
--name le_re 
--gpu_ids 0 
--model resvit_one 
--which_model_netG resvit 
--dataset_mode aligned 
--norm batch 
--phase test 
--output_nc 1 
--input_nc 3 
--how_many 10000 
--serial_batches 
--fineSize 256 
--loadSize 256 
--results_dir /home/hoo/projects/wxd/GANs/RISS/result 
--checkpoints_dir /home/hoo/projects/wxd/GANs/RISS/Checkpoints 
--which_epoch latest
"""

os.system(cmd)
